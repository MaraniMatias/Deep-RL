{
  "nbformat": 4,
  "nbformat_minor": 0,
  "metadata": {
    "colab": {
      "name": "Stocks Trading Using RL",
      "version": "0.3.2",
      "provenance": [],
      "collapsed_sections": [],
      "include_colab_link": true
    },
    "kernelspec": {
      "name": "python3",
      "display_name": "Python 3"
    },
    "accelerator": "GPU"
  },
  "cells": [
    {
      "cell_type": "markdown",
      "metadata": {
        "id": "view-in-github",
        "colab_type": "text"
      },
      "source": [
        "<a href=\"https://colab.research.google.com/github/MaraniMatias/Deep-RL/blob/master/Stocks_Trading_Using_RL.ipynb\" target=\"_parent\"><img src=\"https://colab.research.google.com/assets/colab-badge.svg\" alt=\"Open In Colab\"/></a>"
      ]
    },
    {
      "metadata": {
        "id": "c0IDaNykBNSS",
        "colab_type": "text"
      },
      "cell_type": "markdown",
      "source": [
        "# Stocks Trading Using RL\n",
        "\n",
        "## Trading\n",
        "\n",
        "Since the first financial market was established, people have been trying to predict future price movements, as this promises lots of benefits, like “profit from nowhere” or protecting capital from sudden market movements. This problem is known to be complex and there are lots of financial consultants, investment funds, banks, and individual traders who are trying to predict the market and find the best moments to buy and sell to maximize profit.\n",
        "\n",
        "The question is: can we look at the problem from the RL angle? We have some observation of the market and we want to make a decision: buy, sell, or wait. If we buy before the price goes up, our profit will be positive, otherwise, we’ll get a negative reward. What we’re trying to do is to get as much profit as possible. The connections between market trading and RL are quite obvious.\n",
        "\n",
        "## Date\n",
        "\n",
        "Inside the archive, we have CSV files with M1 bars, which means that every row in the CSV corresponds to a single minute in time and price movement during this minute is captured with four prices: open, high, low, and close. Here, an open price is the price at the beginning of the minute, high is the maximum price during the interval, low is the minimum price, and the close price is the last price of the minute time interval.\n",
        "Every minute interval is called bar and allows us to have an idea of price movement within the interval\n",
        "\n",
        "## Problem statements and key decisions\n",
        "\n",
        "Flexibility, in this case, is good and bad at the same time. It’s good that we have the freedom to pass some information to the agent that we feel will be important to learn efficiently. For example, you can pass to the trading agent not only prices but also the information about news or important statistics to be published (which is known to influence financial markets a lot). The bad part is that this flexibility usually means that to find a good agent, you need to try lots of variants of data representation and it’s not always obvious which will work better. In our case, we’ll implement the basic trading agent in its simplest form. \n",
        "\n",
        "At every step, which will be after every minute’s bar, the agent can take one of the following actions:\n",
        "**Do nothing:** Skip the bar without taking actions\n",
        "**Buy a share:** If the agent has already got the share, nothing will be bought, otherwise we’ll pay the commission, which is usually some small percentage of the current price\n",
        "**Close the position:** If we’ve got no share previously bought, nothing will happen, otherwise we’ll pay the commission for the trade.\n",
        "\n",
        "The **reward** that the agent receives could be expressed in various ways. On the one hand, we can split the reward into multiple steps during our ownership of the share. In that case, the reward on every step will be equal to the last bar’s movement. On the other hand, the agent can receive reward only after the close action and receive full reward at once. At the first sight, both variants should have the same final result, but maybe with different convergence speed. However, in practice, the difference could be dramatic. We’ll implement both variants to have a chance to compare them.\n",
        "\n",
        "\n",
        "One last decision to make is how to represent the prices in our environment observation. Ideally, we would like our agent to be independent on actual price values and take into account relative movement, such as “stock has grown 1% during the last bar” or “stock has lost 5%.\" This makes sense, as different stocks’ prices can vary, but they can have similar movement patterns. In finance, there exists a branch of analytics called “technical analysis,\" which studies such patterns to help to make predictions from them. We would like our system to be able to discover them (if they exist). To achieve this, we’ll convert every bar “open, high, low, and close” prices to three numbers showing high, low, and close prices represented as a percentage to the open price.\n",
        "\n",
        "\n",
        "_This representation has its own drawbacks, as we’re potentially losing the information about key price levels._\n",
        "\n"
      ]
    },
    {
      "metadata": {
        "id": "1riellW8F7NQ",
        "colab_type": "text"
      },
      "cell_type": "markdown",
      "source": [
        "## Data\n",
        "\n",
        "> Note: [Read file on google drive](https://colab.research.google.com/drive/1JmwtF5OmSghC-y3-BkvxLan0zYXqCJJf#scrollTo=CJ9ijZC3Q1Xl)\n"
      ]
    },
    {
      "metadata": {
        "id": "9LQaNmAUYInQ",
        "colab_type": "code",
        "colab": {}
      },
      "cell_type": "code",
      "source": [
        "!pip install --upgrade -q gspread"
      ],
      "execution_count": 0,
      "outputs": []
    },
    {
      "metadata": {
        "id": "6ehnUigGNjia",
        "colab_type": "code",
        "outputId": "d1361d17-93bb-4adf-a440-a1fd286c99c4",
        "colab": {
          "base_uri": "https://localhost:8080/",
          "height": 34
        }
      },
      "cell_type": "code",
      "source": [
        "# Load the Drive helper and mount\n",
        "# from google.colab import drive\n",
        "\n",
        "# This will prompt for authorization.\n",
        "# drive.mount('/content/drive')\n"
      ],
      "execution_count": 0,
      "outputs": [
        {
          "output_type": "stream",
          "text": [
            "Drive already mounted at /content/drive; to attempt to forcibly remount, call drive.mount(\"/content/drive\", force_remount=True).\n"
          ],
          "name": "stdout"
        }
      ]
    },
    {
      "metadata": {
        "id": "ZDw-S4auZsLZ",
        "colab_type": "text"
      },
      "cell_type": "markdown",
      "source": [
        "Buscar los CSV en Google Drive, tenes que subirlos a tu drive"
      ]
    },
    {
      "metadata": {
        "id": "XzRiEGnZXRxO",
        "colab_type": "code",
        "outputId": "27bd81d5-9bff-4082-b97d-702e96768a34",
        "colab": {
          "base_uri": "https://localhost:8080/",
          "height": 34
        }
      },
      "cell_type": "code",
      "source": [
        "from google.colab import auth\n",
        "auth.authenticate_user()\n",
        "\n",
        "import gspread\n",
        "from oauth2client.client import GoogleCredentials\n",
        "\n",
        "gc = gspread.authorize(GoogleCredentials.get_application_default())\n",
        "\n",
        "# Datos de entrenamiento\n",
        "DEFAULT_STOCKS = gc.open('YNDX_150101_151231').sheet1\n",
        "# Datos de validacion\n",
        "DEFAULT_VAL_STOCKS = gc.open('YNDX_160101_161231').sheet1\n",
        "\n",
        "# get_all_values gives a list of rows.\n",
        "rows = DEFAULT_STOCKS.get_all_values()\n",
        "# print(rows)\n",
        "# rows = DEFAULT_VAL_STOCKS.get_all_values()\n",
        "# print(rows)\n",
        "\n",
        "# Convert to a DataFrame and render.\n",
        "import pandas as pd\n",
        "pd.DataFrame.from_records(rows)\n"
      ],
      "execution_count": 0,
      "outputs": [
        {
          "output_type": "execute_result",
          "data": {
            "text/plain": [
              "<module 'pandas' from '/usr/local/lib/python3.6/dist-packages/pandas/__init__.py'>"
            ]
          },
          "metadata": {
            "tags": []
          },
          "execution_count": 15
        }
      ]
    },
    {
      "metadata": {
        "id": "M8JagjEKZlw2",
        "colab_type": "text"
      },
      "cell_type": "markdown",
      "source": [
        "Crear las etiquetas para las columnas del csv"
      ]
    },
    {
      "metadata": {
        "id": "EhNwSFeaZiWN",
        "colab_type": "code",
        "colab": {}
      },
      "cell_type": "code",
      "source": [
        "import os\n",
        "import csv\n",
        "import glob\n",
        "import numpy as np\n",
        "import collections\n",
        "\n",
        "Prices = collections.namedtuple('Prices', field_names=['open', 'high', 'low', 'close', 'volume'])"
      ],
      "execution_count": 0,
      "outputs": []
    },
    {
      "metadata": {
        "id": "xVvLJFQ9fMQX",
        "colab_type": "code",
        "colab": {}
      },
      "cell_type": "code",
      "source": [
        "def read_csv(file_name, sep=',', filter_data=True, fix_open_price=False):\n",
        "    print(\"Reading\", file_name)\n",
        "    with open(file_name, 'rt', encoding='utf-8') as fd:\n",
        "        reader = csv.reader(fd, delimiter=sep)\n",
        "        h = next(reader)\n",
        "        if '<OPEN>' not in h and sep == ',':\n",
        "            return read_csv(file_name, ';')\n",
        "        indices = [h.index(s) for s in ('<OPEN>', '<HIGH>', '<LOW>', '<CLOSE>', '<VOL>')]\n",
        "        o, h, l, c, v = [], [], [], [], []\n",
        "        count_out = 0\n",
        "        count_filter = 0\n",
        "        count_fixed = 0\n",
        "        prev_vals = None\n",
        "        for row in reader:\n",
        "            vals = list(map(float, [row[idx] for idx in indices]))\n",
        "            if filter_data and all(map(lambda v: abs(v-vals[0]) < 1e-8, vals[:-1])):\n",
        "                count_filter += 1\n",
        "                continue\n",
        "\n",
        "            po, ph, pl, pc, pv = vals\n",
        "\n",
        "            # fix open price for current bar to match close price for the previous bar\n",
        "            if fix_open_price and prev_vals is not None:\n",
        "                ppo, pph, ppl, ppc, ppv = vals\n",
        "                if abs(po - ppc) > 1e-8:\n",
        "                    count_fixed += 1\n",
        "                    po = ppc\n",
        "                    pl = min(pl, po)\n",
        "                    ph = max(ph, po)\n",
        "            count_out += 1\n",
        "            o.append(po)\n",
        "            c.append(pc)\n",
        "            h.append(ph)\n",
        "            l.append(pl)\n",
        "            v.append(pv)\n",
        "            prev_vals = vals\n",
        "    print(\"Read done, got %d rows, %d filtered, %d open prices adjusted\" % (\n",
        "        count_filter + count_out, count_filter, count_fixed))\n",
        "    return Prices(open=np.array(o, dtype=np.float32),\n",
        "                  high=np.array(h, dtype=np.float32),\n",
        "                  low=np.array(l, dtype=np.float32),\n",
        "                  close=np.array(c, dtype=np.float32),\n",
        "                  volume=np.array(v, dtype=np.float32))\n"
      ],
      "execution_count": 0,
      "outputs": []
    },
    {
      "metadata": {
        "id": "oVUQ9KzGfU0I",
        "colab_type": "code",
        "colab": {}
      },
      "cell_type": "code",
      "source": [
        "def prices_to_relative(prices):\n",
        "    \"\"\"\n",
        "    Convert prices to relative in respect to open price\n",
        "    :param ochl: tuple with open, close, high, low\n",
        "    :return: tuple with open, rel_close, rel_high, rel_low\n",
        "    \"\"\"\n",
        "    assert isinstance(prices, Prices)\n",
        "    rh = (prices.high - prices.open) / prices.open\n",
        "    rl = (prices.low - prices.open) / prices.open\n",
        "    rc = (prices.close - prices.open) / prices.open\n",
        "    return Prices(open=prices.open, high=rh, low=rl, close=rc, volume=prices.volume)"
      ],
      "execution_count": 0,
      "outputs": []
    },
    {
      "metadata": {
        "id": "TtW3kcmtfdoJ",
        "colab_type": "code",
        "colab": {}
      },
      "cell_type": "code",
      "source": [
        "def price_files(dir_name):\n",
        "    result = []\n",
        "    for path in glob.glob(os.path.join(dir_name, \"*.csv\")):\n",
        "        result.append(path)\n",
        "    return result"
      ],
      "execution_count": 0,
      "outputs": []
    },
    {
      "metadata": {
        "id": "YJkhyBwLfaHG",
        "colab_type": "code",
        "colab": {}
      },
      "cell_type": "code",
      "source": [
        "def load_relative(csv_file):\n",
        "    return prices_to_relative(read_csv(csv_file))"
      ],
      "execution_count": 0,
      "outputs": []
    },
    {
      "metadata": {
        "id": "NSxykuLAfgCR",
        "colab_type": "code",
        "colab": {}
      },
      "cell_type": "code",
      "source": [
        "def load_year_data(year, basedir='data'):\n",
        "    y = str(year)[-2:]\n",
        "    result = {}\n",
        "    for path in glob.glob(os.path.join(basedir, \"*_%s*.csv\" % y)):\n",
        "        result[path] = load_relative(path)\n",
        "    return result"
      ],
      "execution_count": 0,
      "outputs": []
    },
    {
      "metadata": {
        "id": "9utGpzycK0gz",
        "colab_type": "code",
        "colab": {}
      },
      "cell_type": "code",
      "source": [
        ""
      ],
      "execution_count": 0,
      "outputs": []
    },
    {
      "metadata": {
        "id": "gibxu5oRYNNe",
        "colab_type": "text"
      },
      "cell_type": "markdown",
      "source": [
        "## Environment\n"
      ]
    }
  ]
}